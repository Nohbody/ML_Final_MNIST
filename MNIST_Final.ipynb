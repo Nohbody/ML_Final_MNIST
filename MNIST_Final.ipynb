{
 "cells": [
  {
   "cell_type": "markdown",
   "metadata": {},
   "source": [
    "&nbsp;&nbsp;&nbsp;&nbsp;The following analysis uses tensorflow on the gpu to run. The intention is to run the final model, which has over 500k parameters to train in the network, in a feasible amount of computation time. On my Nvidia Geoforce 980ti, the model takes about 17 seconds per epoch for 20 epochs. Since the reported time in the record model's paper suggests a 14 hour training period over 800 epochs, it's possible they used a more robust optimizer and loss function that are computationally harder (e.g. using full gradient descent rather than stochastic gradient descent). They also used an adapted learning rate to fine tune the minimums in the loss function towards the end."
   ]
  },
  {
   "cell_type": "code",
   "execution_count": 1,
   "metadata": {},
   "outputs": [
    {
     "name": "stderr",
     "output_type": "stream",
     "text": [
      "Using TensorFlow backend.\n"
     ]
    }
   ],
   "source": [
    "# Source: https://stackoverflow.com/questions/47286441/only-import-keras-takes-10gb-in-gpu\n",
    "# This added cell fixes an issue with keras loading onto the gpu's RAM preventing larger batch sizes\n",
    "# and more complicated models.\n",
    "\n",
    "import tensorflow as tf\n",
    "gpu_options = tf.GPUOptions(per_process_gpu_memory_fraction=0.2)\n",
    "sess = tf.Session(config=tf.ConfigProto(gpu_options=gpu_options))\n",
    "from keras import backend as K\n",
    "import tensorflow as tf\n",
    "config = tf.ConfigProto()\n",
    "config.gpu_options.per_process_gpu_memory_fraction = 0.2\n",
    "session = tf.Session(config=config)\n",
    "K.set_session(session)"
   ]
  },
  {
   "cell_type": "markdown",
   "metadata": {},
   "source": [
    "&nbsp;&nbsp;&nbsp;&nbsp;First, we import the mnist data from keras. Each image is 28x28 with intensity from white (0) to black (255). Since the basic model is fully connected the data is reshaped so the second dimension is a list of the intensities rather than the matrix of intensities. The labels are also converted to 1-hot matrices so that softmax has a distinct classification to maximize trigger."
   ]
  },
  {
   "cell_type": "code",
   "execution_count": 12,
   "metadata": {},
   "outputs": [],
   "source": [
    "from tensorflow import keras\n",
    "\n",
    "num_classes = 10\n",
    "\n",
    "img_rows = 28\n",
    "img_cols = 28\n",
    "\n",
    "mnist = keras.datasets.mnist\n",
    "(train_images, train_labels),(test_images, test_labels) = mnist.load_data()\n",
    "\n",
    "#train_images = train_images.reshape(train_images.shape[0], img_rows, img_cols, 1)\n",
    "#test_images = test_images.reshape(test_images.shape[0], img_rows, img_cols, 1)\n",
    "\n",
    "train_images = train_images.astype('float32')\n",
    "test_images = test_images.astype('float32')\n",
    "\n",
    "# For basic model comparison\n",
    "train_images = train_images.reshape(train_images.shape[0],img_rows*img_cols)\n",
    "test_images = test_images.reshape(test_images.shape[0],img_rows*img_cols)\n",
    "\n",
    "# Normalize intensity values\n",
    "train_images /= 255.0\n",
    "test_images /= 255.0\n",
    "\n",
    "# Convert the labels to 1-hot\n",
    "train_labels = keras.utils.to_categorical(train_labels, num_classes)\n",
    "test_labels = keras.utils.to_categorical(test_labels, num_classes)"
   ]
  },
  {
   "cell_type": "markdown",
   "metadata": {},
   "source": [
    "We can build our first network which is a basic 1 layer fully connected model (784N-15N-10N)"
   ]
  },
  {
   "cell_type": "code",
   "execution_count": 20,
   "metadata": {},
   "outputs": [
    {
     "name": "stdout",
     "output_type": "stream",
     "text": [
      "_________________________________________________________________\n",
      "Layer (type)                 Output Shape              Param #   \n",
      "=================================================================\n",
      "dense_14 (Dense)             (None, 15)                11775     \n",
      "_________________________________________________________________\n",
      "dense_15 (Dense)             (None, 10)                160       \n",
      "=================================================================\n",
      "Total params: 11,935\n",
      "Trainable params: 11,935\n",
      "Non-trainable params: 0\n",
      "_________________________________________________________________\n"
     ]
    }
   ],
   "source": [
    "from __future__ import print_function\n",
    "import keras\n",
    "import keras.models as km\n",
    "from keras.models import Sequential\n",
    "from keras.layers import Dense, Dropout, Flatten\n",
    "from keras.layers import Conv2D, MaxPooling2D\n",
    "from keras import backend as K\n",
    "from keras import optimizers\n",
    "\n",
    "import numpy as np\n",
    "import tensorflow as tf\n",
    "\n",
    "#input_shape = (img_rows,img_cols,1)\n",
    "input_shape = (img_rows*img_cols,1)\n",
    "\n",
    "model = km.Sequential()\n",
    "model.add(Dense(15, input_dim=img_rows*img_cols))\n",
    "model.add(Dense(num_classes, activation='softmax'))\n",
    "\n",
    "model.summary()"
   ]
  },
  {
   "cell_type": "markdown",
   "metadata": {},
   "source": [
    "Compile and train the basic model."
   ]
  },
  {
   "cell_type": "code",
   "execution_count": 21,
   "metadata": {},
   "outputs": [
    {
     "name": "stdout",
     "output_type": "stream",
     "text": [
      "Train on 60000 samples, validate on 10000 samples\n",
      "Epoch 1/20\n",
      "60000/60000 [==============================] - 7s 121us/step - loss: 0.0770 - acc: 0.4228 - val_loss: 0.0609 - val_acc: 0.5960\n",
      "Epoch 2/20\n",
      "60000/60000 [==============================] - 7s 115us/step - loss: 0.0520 - acc: 0.6532 - val_loss: 0.0433 - val_acc: 0.7278\n",
      "Epoch 3/20\n",
      "60000/60000 [==============================] - 7s 118us/step - loss: 0.0381 - acc: 0.7784 - val_loss: 0.0322 - val_acc: 0.8305\n",
      "Epoch 4/20\n",
      "60000/60000 [==============================] - 7s 115us/step - loss: 0.0301 - acc: 0.8335 - val_loss: 0.0264 - val_acc: 0.8591\n",
      "Epoch 5/20\n",
      "60000/60000 [==============================] - 7s 115us/step - loss: 0.0259 - acc: 0.8533 - val_loss: 0.0232 - val_acc: 0.8698\n",
      "Epoch 6/20\n",
      "60000/60000 [==============================] - 7s 115us/step - loss: 0.0234 - acc: 0.8636 - val_loss: 0.0212 - val_acc: 0.8774\n",
      "Epoch 7/20\n",
      "60000/60000 [==============================] - 7s 117us/step - loss: 0.0217 - acc: 0.8708 - val_loss: 0.0199 - val_acc: 0.8818\n",
      "Epoch 8/20\n",
      "60000/60000 [==============================] - 7s 119us/step - loss: 0.0205 - acc: 0.8763 - val_loss: 0.0189 - val_acc: 0.8861\n",
      "Epoch 9/20\n",
      "60000/60000 [==============================] - 7s 114us/step - loss: 0.0196 - acc: 0.8806 - val_loss: 0.0181 - val_acc: 0.8896\n",
      "Epoch 10/20\n",
      "60000/60000 [==============================] - 7s 122us/step - loss: 0.0188 - acc: 0.8841 - val_loss: 0.0174 - val_acc: 0.8925\n",
      "Epoch 11/20\n",
      "60000/60000 [==============================] - 7s 116us/step - loss: 0.0182 - acc: 0.8875 - val_loss: 0.0169 - val_acc: 0.8947\n",
      "Epoch 12/20\n",
      "60000/60000 [==============================] - 7s 116us/step - loss: 0.0177 - acc: 0.8902 - val_loss: 0.0165 - val_acc: 0.8968\n",
      "Epoch 13/20\n",
      "60000/60000 [==============================] - 7s 117us/step - loss: 0.0172 - acc: 0.8924 - val_loss: 0.0161 - val_acc: 0.8993\n",
      "Epoch 14/20\n",
      "60000/60000 [==============================] - 7s 118us/step - loss: 0.0168 - acc: 0.8945 - val_loss: 0.0158 - val_acc: 0.9003\n",
      "Epoch 15/20\n",
      "60000/60000 [==============================] - 7s 117us/step - loss: 0.0165 - acc: 0.8965 - val_loss: 0.0154 - val_acc: 0.9025\n",
      "Epoch 16/20\n",
      "60000/60000 [==============================] - 7s 118us/step - loss: 0.0162 - acc: 0.8980 - val_loss: 0.0152 - val_acc: 0.9044\n",
      "Epoch 17/20\n",
      "60000/60000 [==============================] - 7s 116us/step - loss: 0.0159 - acc: 0.8994 - val_loss: 0.0150 - val_acc: 0.9049\n",
      "Epoch 18/20\n",
      "60000/60000 [==============================] - 7s 116us/step - loss: 0.0157 - acc: 0.9008 - val_loss: 0.0148 - val_acc: 0.9063\n",
      "Epoch 19/20\n",
      "60000/60000 [==============================] - 7s 117us/step - loss: 0.0154 - acc: 0.9022 - val_loss: 0.0145 - val_acc: 0.9084\n",
      "Epoch 20/20\n",
      "60000/60000 [==============================] - 7s 118us/step - loss: 0.0152 - acc: 0.9029 - val_loss: 0.0144 - val_acc: 0.9093\n"
     ]
    }
   ],
   "source": [
    "model.compile(loss=keras.losses.mean_squared_error,\n",
    "              optimizer=optimizers.SGD(lr=0.01, momentum=0.0, decay=0.0, nesterov=False),\n",
    "              metrics=['accuracy'])\n",
    "\n",
    "batch_size = 16\n",
    "epochs= 20\n",
    "history = model.fit(train_images, train_labels,\n",
    "          batch_size=batch_size,\n",
    "          epochs=epochs,\n",
    "          verbose=1,\n",
    "          validation_data=(test_images,test_labels))"
   ]
  },
  {
   "cell_type": "markdown",
   "metadata": {},
   "source": [
    "&nbsp;&nbsp;&nbsp;&nbsp;We'll test the accuracy from the basic model using a confusion matrix (with in-order labels). We can tell from the training vs. validation accuracy plot that the model hasn't suffered from overfitting."
   ]
  },
  {
   "cell_type": "code",
   "execution_count": 30,
   "metadata": {},
   "outputs": [
    {
     "name": "stdout",
     "output_type": "stream",
     "text": [
      "Confusion matrix: \n",
      " [[ 960    0    5    2    0    2    5    1    5    0]\n",
      " [   0 1102    4    6    0    0    5    2   16    0]\n",
      " [  14    1  908   12   18    0   18   16   39    6]\n",
      " [   3    0   22  907    1   29    3   17   20    8]\n",
      " [   2    3    4    1  912    0   14    2    6   38]\n",
      " [  17    4    4   39   14  727   18   13   51    5]\n",
      " [  21    3    3    0   14   14  897    1    5    0]\n",
      " [   4   14   30    6   13    1    0  929    2   29]\n",
      " [   7    7   10   21    8   21   12   10  864   14]\n",
      " [  10    6    4    8   44   13    0   25   12  887]]\n",
      "Classification accuracy:  0.9093\n"
     ]
    },
    {
     "data": {
      "image/png": "[encoded data removed]",
      "text/plain": [
       "<Figure size 432x288 with 1 Axes>"
      ]
     },
     "metadata": {
      "needs_background": "light"
     },
     "output_type": "display_data"
    }
   ],
   "source": [
    "from sklearn.metrics import confusion_matrix\n",
    "import numpy as np\n",
    "import matplotlib.pyplot as plt\n",
    "\n",
    "y_pred = model.predict(test_images, batch_size=batch_size)\n",
    "# argmax determines which class had the most weight (e.g. predicted)\n",
    "c = confusion_matrix(test_labels.argmax(axis=1), y_pred.argmax(axis=1), labels=[0,1,2,3,4,5,6,7,8,9])\n",
    "accuracy = np.diagonal(c).sum()/c.sum()\n",
    "\n",
    "print(\"Confusion matrix: \\n\", c)\n",
    "print(\"Classification accuracy: \", accuracy)\n",
    "\n",
    "\n",
    "train_acc = history.history['acc']\n",
    "val_acc = history.history['val_acc']\n",
    "\n",
    "xs = [i+1 for i in range(epochs)]\n",
    "\n",
    "plt.plot(xs,train_acc)\n",
    "plt.plot(xs,val_acc)\n",
    "plt.xlabel('Epoch')\n",
    "plt.ylabel('Accuracy')\n",
    "plt.legend(['Training', 'Validation'], loc='lower right')\n",
    "plt.show()"
   ]
  },
  {
   "cell_type": "markdown",
   "metadata": {},
   "source": [
    "We can build our second network which is a convolution network that utilizes two convolution layers and two pooling layers. The architecture slightly differs from one column in the record model since the record used a dataset with 29x29 images, possibly rescaling the original NIST sets themselves (1x29x29-20C4-MP2-40C5-MP3-150N-10N)."
   ]
  },
  {
   "cell_type": "code",
   "execution_count": 32,
   "metadata": {},
   "outputs": [
    {
     "name": "stdout",
     "output_type": "stream",
     "text": [
      "_________________________________________________________________\n",
      "Layer (type)                 Output Shape              Param #   \n",
      "=================================================================\n",
      "conv2d_6 (Conv2D)            (None, 25, 25, 20)        340       \n",
      "_________________________________________________________________\n",
      "max_pooling2d_4 (MaxPooling2 (None, 12, 12, 20)        0         \n",
      "_________________________________________________________________\n",
      "conv2d_7 (Conv2D)            (None, 8, 8, 800)         400800    \n",
      "_________________________________________________________________\n",
      "max_pooling2d_5 (MaxPooling2 (None, 2, 2, 800)         0         \n",
      "_________________________________________________________________\n",
      "dense_16 (Dense)             (None, 2, 2, 150)         120150    \n",
      "_________________________________________________________________\n",
      "flatten_6 (Flatten)          (None, 600)               0         \n",
      "_________________________________________________________________\n",
      "dense_17 (Dense)             (None, 10)                6010      \n",
      "=================================================================\n",
      "Total params: 527,300\n",
      "Trainable params: 527,300\n",
      "Non-trainable params: 0\n",
      "_________________________________________________________________\n"
     ]
    }
   ],
   "source": [
    "train_images = train_images.reshape(train_images.shape[0], img_rows, img_cols, 1)\n",
    "test_images = test_images.reshape(test_images.shape[0], img_rows, img_cols, 1)\n",
    "\n",
    "input_shape = (img_rows,img_cols,1)\n",
    "\n",
    "model = km.Sequential()\n",
    "\n",
    "model.add(Conv2D(20, kernel_size=(4, 4),\n",
    "                 activation='relu',\n",
    "                 input_shape=input_shape))\n",
    "model.add(MaxPooling2D(pool_size=(2, 2)))\n",
    "model.add(Conv2D(800, (5, 5), activation='relu'))\n",
    "model.add(MaxPooling2D(pool_size=(3, 3)))\n",
    "model.add(Dense(150))\n",
    "model.add(Flatten())\n",
    "model.add(Dense(num_classes, activation = 'softmax'))\n",
    "\n",
    "model.summary()"
   ]
  },
  {
   "cell_type": "markdown",
   "metadata": {},
   "source": [
    "Compile and train the advanced model."
   ]
  },
  {
   "cell_type": "code",
   "execution_count": 33,
   "metadata": {},
   "outputs": [
    {
     "name": "stdout",
     "output_type": "stream",
     "text": [
      "Train on 60000 samples, validate on 10000 samples\n",
      "Epoch 1/20\n",
      "60000/60000 [==============================] - 17s 276us/step - loss: 0.0874 - acc: 0.5076 - val_loss: 0.0827 - val_acc: 0.7081\n",
      "Epoch 2/20\n",
      "60000/60000 [==============================] - 16s 271us/step - loss: 0.0605 - acc: 0.6966 - val_loss: 0.0325 - val_acc: 0.8523\n",
      "Epoch 3/20\n",
      "60000/60000 [==============================] - 16s 270us/step - loss: 0.0227 - acc: 0.8848 - val_loss: 0.0156 - val_acc: 0.9111\n",
      "Epoch 4/20\n",
      "60000/60000 [==============================] - 16s 271us/step - loss: 0.0143 - acc: 0.9191 - val_loss: 0.0115 - val_acc: 0.9343\n",
      "Epoch 5/20\n",
      "60000/60000 [==============================] - 16s 268us/step - loss: 0.0114 - acc: 0.9335 - val_loss: 0.0096 - val_acc: 0.9424\n",
      "Epoch 6/20\n",
      "60000/60000 [==============================] - 16s 270us/step - loss: 0.0097 - acc: 0.9423 - val_loss: 0.0083 - val_acc: 0.9507\n",
      "Epoch 7/20\n",
      "60000/60000 [==============================] - 16s 272us/step - loss: 0.0086 - acc: 0.9484 - val_loss: 0.0074 - val_acc: 0.9565\n",
      "Epoch 8/20\n",
      "60000/60000 [==============================] - 16s 270us/step - loss: 0.0077 - acc: 0.9537 - val_loss: 0.0068 - val_acc: 0.9595\n",
      "Epoch 9/20\n",
      "60000/60000 [==============================] - 16s 271us/step - loss: 0.0071 - acc: 0.9577 - val_loss: 0.0062 - val_acc: 0.9631\n",
      "Epoch 10/20\n",
      "60000/60000 [==============================] - 16s 272us/step - loss: 0.0066 - acc: 0.9611 - val_loss: 0.0059 - val_acc: 0.9655\n",
      "Epoch 11/20\n",
      "60000/60000 [==============================] - 16s 272us/step - loss: 0.0061 - acc: 0.9637 - val_loss: 0.0054 - val_acc: 0.9664\n",
      "Epoch 12/20\n",
      "60000/60000 [==============================] - 16s 269us/step - loss: 0.0058 - acc: 0.9656 - val_loss: 0.0052 - val_acc: 0.9699\n",
      "Epoch 13/20\n",
      "60000/60000 [==============================] - 16s 269us/step - loss: 0.0055 - acc: 0.9673 - val_loss: 0.0049 - val_acc: 0.9700\n",
      "Epoch 14/20\n",
      "60000/60000 [==============================] - 16s 272us/step - loss: 0.0052 - acc: 0.9693 - val_loss: 0.0047 - val_acc: 0.9710\n",
      "Epoch 15/20\n",
      "60000/60000 [==============================] - 16s 270us/step - loss: 0.0050 - acc: 0.9705 - val_loss: 0.0045 - val_acc: 0.9725\n",
      "Epoch 16/20\n",
      "60000/60000 [==============================] - 16s 270us/step - loss: 0.0048 - acc: 0.9716 - val_loss: 0.0043 - val_acc: 0.9742\n",
      "Epoch 17/20\n",
      "60000/60000 [==============================] - 16s 270us/step - loss: 0.0046 - acc: 0.9726 - val_loss: 0.0042 - val_acc: 0.9746\n",
      "Epoch 18/20\n",
      "60000/60000 [==============================] - 16s 269us/step - loss: 0.0045 - acc: 0.9732 - val_loss: 0.0040 - val_acc: 0.9755\n",
      "Epoch 19/20\n",
      "60000/60000 [==============================] - 16s 271us/step - loss: 0.0043 - acc: 0.9747 - val_loss: 0.0040 - val_acc: 0.9759\n",
      "Epoch 20/20\n",
      "60000/60000 [==============================] - 16s 270us/step - loss: 0.0042 - acc: 0.9755 - val_loss: 0.0038 - val_acc: 0.9771\n"
     ]
    }
   ],
   "source": [
    "model.compile(loss=keras.losses.mean_squared_error,\n",
    "              optimizer=optimizers.SGD(lr=0.01, momentum=0.0, decay=0.0, nesterov=False),\n",
    "              metrics=['accuracy'])\n",
    "\n",
    "batch_size = 16\n",
    "epochs= 20\n",
    "history = model.fit(train_images, train_labels,\n",
    "          batch_size=batch_size,\n",
    "          epochs=epochs,\n",
    "          verbose=1,\n",
    "          validation_data=(test_images,test_labels))"
   ]
  },
  {
   "cell_type": "markdown",
   "metadata": {},
   "source": [
    "Similarly, we can test accuracy using a confusion matrix and verify the model isn't overfitted."
   ]
  },
  {
   "cell_type": "code",
   "execution_count": 34,
   "metadata": {},
   "outputs": [
    {
     "name": "stdout",
     "output_type": "stream",
     "text": [
      "Confusion matrix: \n",
      " [[ 969    2    0    0    1    4    1    2    1    0]\n",
      " [   0 1123    4    3    0    1    1    0    3    0]\n",
      " [   5    0 1004    1    1    0    1   14    4    2]\n",
      " [   0    0    5  990    0    3    0    7    3    2]\n",
      " [   2    2    1    1  956    1    4    3    2   10]\n",
      " [   4    0    0    7    1  873    2    2    3    0]\n",
      " [   7    2    0    1    6    5  935    0    2    0]\n",
      " [   1    3   15    4    0    1    0  999    2    3]\n",
      " [   4    0    2    3    4    2    3    5  945    6]\n",
      " [   5    2    0    4    2    5    1    5    8  977]]\n",
      "Classification accuracy:  0.9771\n"
     ]
    },
    {
     "data": {
      "image/png": "[encoded data removed]",
      "text/plain": [
       "<Figure size 432x288 with 1 Axes>"
      ]
     },
     "metadata": {
      "needs_background": "light"
     },
     "output_type": "display_data"
    }
   ],
   "source": [
    "y_pred = model.predict(test_images, batch_size=batch_size)\n",
    "# argmax determines which class had the most weight (e.g. predicted)\n",
    "c = confusion_matrix(test_labels.argmax(axis=1), y_pred.argmax(axis=1), labels=[0,1,2,3,4,5,6,7,8,9])\n",
    "accuracy = np.diagonal(c).sum()/c.sum()\n",
    "\n",
    "print(\"Confusion matrix: \\n\", c)\n",
    "print(\"Classification accuracy: \", accuracy)\n",
    "\n",
    "\n",
    "train_acc = history.history['acc']\n",
    "val_acc = history.history['val_acc']\n",
    "\n",
    "xs = [i+1 for i in range(epochs)]\n",
    "\n",
    "plt.plot(xs,train_acc)\n",
    "plt.plot(xs,val_acc)\n",
    "plt.xlabel('Epoch')\n",
    "plt.ylabel('Accuracy')\n",
    "plt.legend(['Training', 'Validation'], loc='lower right')\n",
    "plt.show()"
   ]
  },
  {
   "cell_type": "markdown",
   "metadata": {},
   "source": [
    "It can be noted that the accuracies of both models had not yet reached their full potential, still garnering marginal improvements in later epochs. Perhaps this where a more refined learning rate could help us achieve minimized loss faster and we could also train for much longer until convergence."
   ]
  },
  {
   "cell_type": "code",
   "execution_count": null,
   "metadata": {},
   "outputs": [],
   "source": []
  }
 ],
 "metadata": {
  "kernelspec": {
   "display_name": "Python 3",
   "language": "python",
   "name": "python3"
  },
  "language_info": {
   "codemirror_mode": {
    "name": "ipython",
    "version": 3
   },
   "file_extension": ".py",
   "mimetype": "text/x-python",
   "name": "python",
   "nbconvert_exporter": "python",
   "pygments_lexer": "ipython3",
   "version": "3.7.0"
  }
 },
 "nbformat": 4,
 "nbformat_minor": 2
}
